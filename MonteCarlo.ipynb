{
 "cells": [
  {
   "cell_type": "code",
   "execution_count": 1,
   "id": "87b9d37c",
   "metadata": {},
   "outputs": [],
   "source": [
    "from random import randint\n",
    "import numpy as np\n",
    "from itertools import combinations, chain"
   ]
  },
  {
   "cell_type": "code",
   "execution_count": 2,
   "id": "fdb84edf",
   "metadata": {},
   "outputs": [],
   "source": [
    "char_set_base = [\"A\", \"B\", \"C\", \"D\"]\n",
    "char_set_special = [\"X\", \"Y\", \"Z\"]\n",
    "char_set_rare = [\"J\", \"K\"]\n",
    "char_set_all =  char_set_base+\\\n",
    "                char_set_special+\\\n",
    "                char_set_rare"
   ]
  },
  {
   "cell_type": "code",
   "execution_count": 3,
   "id": "1a5ab154",
   "metadata": {},
   "outputs": [],
   "source": [
    "bag_of_og = char_set_base*16+\\\n",
    "            char_set_special*8+\\\n",
    "            char_set_rare*4"
   ]
  },
  {
   "cell_type": "code",
   "execution_count": 14,
   "id": "37ab612f",
   "metadata": {},
   "outputs": [],
   "source": [
    "def first_draw(spell):\n",
    "    count = 0\n",
    "    monte=1000\n",
    "    for sim in range(monte):\n",
    "        bag_of_tiles = list(np.copy(bag_of_og))\n",
    "        hand = []\n",
    "        for draw in range(7):\n",
    "            val = bag_of_tiles[randint(0, len(bag_of_tiles)-1)] # draw a card\n",
    "            hand.append(val)\n",
    "            bag_of_tiles.remove(val) # remove from deck\n",
    "            flag = True\n",
    "        for char in spell:\n",
    "            if char in hand:\n",
    "                hand.remove(char)\n",
    "            else:\n",
    "                flag = False\n",
    "                break\n",
    "        if flag:\n",
    "            count +=1\n",
    "\n",
    "    #     print(hand)\n",
    "    return round(count/monte*100, 2)\n",
    "\n",
    "\n",
    "def run_sim(sl, func=first_draw):\n",
    "    for i in range(len(sl)):\n",
    "        print(sl[i], func(sl[i]))"
   ]
  },
  {
   "cell_type": "code",
   "execution_count": 5,
   "id": "a500b128",
   "metadata": {},
   "outputs": [],
   "source": [
    "## no repeats\n",
    "sl = [[\"A\", \"B\"],\n",
    "      [\"A\", \"B\", \"C\"],\n",
    "      [\"A\", \"B\", \"X\"],\n",
    "      [\"A\", \"X\", \"Y\"],\n",
    "      [\"A\", \"X\", \"J\"],\n",
    "      [\"Y\", \"X\", \"J\"],\n",
    "      [\"A\", \"B\", \"C\", \"D\"],\n",
    "      [\"A\", \"B\", \"C\", \"X\"],\n",
    "      [\"A\", \"B\", \"X\", \"Y\"],\n",
    "      [\"A\", \"B\", \"X\", \"J\"],\n",
    "      [\"A\", \"B\", \"C\", \"D\", \"X\"],\n",
    "      [\"A\", \"B\", \"C\", \"Y\", \"X\"],\n",
    "      [\"A\", \"B\", \"J\", \"Y\", \"X\"],\n",
    "      [\"A\", \"B\", \"C\", \"D\", \"X\", \"Y\"],\n",
    "      [\"A\", \"B\", \"C\", \"Z\", \"X\", \"Y\"],\n",
    "      [\"A\", \"B\", \"C\", \"J\", \"X\", \"Y\"],\n",
    "      [\"A\", \"B\", \"C\", \"D\", \"X\", \"Y\", \"Z\"],\n",
    "      [\"A\", \"B\", \"C\", \"D\", \"X\", \"Y\", \"J\"]\n",
    "     ]"
   ]
  },
  {
   "cell_type": "code",
   "execution_count": 6,
   "id": "010621a7",
   "metadata": {},
   "outputs": [
    {
     "name": "stdout",
     "output_type": "stream",
     "text": [
      "['A', 'B'] 51.63\n",
      "['A', 'B', 'C'] 36.25\n",
      "['A', 'B', 'X'] 21.07\n",
      "['A', 'X', 'Y'] 12.61\n",
      "['A', 'X', 'J'] 7.49\n",
      "['Y', 'X', 'J'] 4.13\n",
      "['A', 'B', 'C', 'D'] 23.27\n",
      "['A', 'B', 'C', 'X'] 13.29\n",
      "['A', 'B', 'X', 'Y'] 7.55\n",
      "['A', 'B', 'X', 'J'] 4.01\n",
      "['A', 'B', 'C', 'D', 'X'] 7.68\n",
      "['A', 'B', 'C', 'Y', 'X'] 4.43\n",
      "['A', 'B', 'J', 'Y', 'X'] 1.18\n",
      "['A', 'B', 'C', 'D', 'X', 'Y'] 1.91\n",
      "['A', 'B', 'C', 'Z', 'X', 'Y'] 1.09\n",
      "['A', 'B', 'C', 'J', 'X', 'Y'] 0.47\n",
      "['A', 'B', 'C', 'D', 'X', 'Y', 'Z'] 0.32\n",
      "['A', 'B', 'C', 'D', 'X', 'Y', 'J'] 0.13\n"
     ]
    }
   ],
   "source": [
    "run_sim(sl)"
   ]
  },
  {
   "cell_type": "code",
   "execution_count": 7,
   "id": "15b8ec27",
   "metadata": {},
   "outputs": [],
   "source": [
    "## doubles repeats\n",
    "sr = [[\"A\", \"A\"],\n",
    "      [\"A\", \"A\", \"C\"],\n",
    "      [\"A\", \"A\", \"X\"],\n",
    "      [\"A\", \"Y\", \"Y\"],\n",
    "      [\"X\", \"X\", \"J\"],\n",
    "      [\"Y\", \"J\", \"J\"],\n",
    "      [\"A\", \"A\", \"C\", \"D\"],\n",
    "      [\"A\", \"A\", \"C\", \"X\"],\n",
    "      [\"A\", \"B\", \"X\", \"X\"],\n",
    "      [\"A\", \"A\", \"X\", \"Y\"],\n",
    "      [\"A\", \"A\", \"X\", \"X\"],\n",
    "      [\"A\", \"B\", \"X\", \"J\"],\n",
    "      [\"A\", \"B\", \"J\", \"J\"],\n",
    "      [\"A\", \"X\", \"J\", \"J\"],\n",
    "      [\"A\", \"A\", \"C\", \"D\", \"X\"],\n",
    "      [\"A\", \"B\", \"C\", \"X\", \"X\"],\n",
    "      [\"A\", \"A\", \"C\", \"X\", \"X\"],\n",
    "      [\"A\", \"A\", \"C\", \"Y\", \"X\"],\n",
    "      [\"A\", \"A\", \"J\", \"Y\", \"X\"],\n",
    "      [\"A\", \"B\", \"J\", \"X\", \"X\"],\n",
    "      [\"A\", \"A\", \"J\", \"X\", \"X\"],\n",
    "      [\"A\", \"A\", \"J\", \"J\", \"X\"],\n",
    "      [\"A\", \"X\", \"X\", \"J\", \"J\"],\n",
    "      [\"A\", \"A\", \"C\", \"D\", \"X\", \"Y\"],\n",
    "      [\"A\", \"B\", \"C\", \"Z\", \"X\", \"X\"],\n",
    "      [\"A\", \"A\", \"C\", \"Z\", \"X\", \"X\"]\n",
    "     ]"
   ]
  },
  {
   "cell_type": "code",
   "execution_count": 8,
   "id": "20930ff1",
   "metadata": {},
   "outputs": [
    {
     "name": "stdout",
     "output_type": "stream",
     "text": [
      "['A', 'A'] 33.02\n",
      "['A', 'A', 'C'] 21.97\n",
      "['A', 'A', 'X'] 12.51\n",
      "['A', 'Y', 'Y'] 6.45\n",
      "['X', 'X', 'J'] 2.3\n",
      "['Y', 'J', 'J'] 0.91\n",
      "['A', 'A', 'C', 'D'] 13.15\n",
      "['A', 'A', 'C', 'X'] 7.9\n",
      "['A', 'B', 'X', 'X'] 3.58\n",
      "['A', 'A', 'X', 'Y'] 4.62\n",
      "['A', 'A', 'X', 'X'] 2.18\n",
      "['A', 'B', 'X', 'J'] 4.72\n",
      "['A', 'B', 'J', 'J'] 0.81\n",
      "['A', 'X', 'J', 'J'] 0.48\n",
      "['A', 'A', 'C', 'D', 'X'] 4.12\n",
      "['A', 'B', 'C', 'X', 'X'] 1.94\n",
      "['A', 'A', 'C', 'X', 'X'] 1.2\n",
      "['A', 'A', 'C', 'Y', 'X'] 2.6\n",
      "['A', 'A', 'J', 'Y', 'X'] 0.75\n",
      "['A', 'B', 'J', 'X', 'X'] 0.66\n",
      "['A', 'A', 'J', 'X', 'X'] 0.3\n",
      "['A', 'A', 'J', 'J', 'X'] 0.14\n",
      "['A', 'X', 'X', 'J', 'J'] 0.01\n",
      "['A', 'A', 'C', 'D', 'X', 'Y'] 0.96\n",
      "['A', 'B', 'C', 'Z', 'X', 'X'] 0.5\n",
      "['A', 'A', 'C', 'Z', 'X', 'X'] 0.2\n"
     ]
    }
   ],
   "source": [
    "run_sim(sr)"
   ]
  },
  {
   "cell_type": "code",
   "execution_count": 9,
   "id": "1acb6ff0",
   "metadata": {},
   "outputs": [],
   "source": [
    "## The generic combinations for 2 symbol spells\n",
    "two_gen =[\"A\", \"X\", \"J\", \"K\"]"
   ]
  },
  {
   "cell_type": "code",
   "execution_count": 39,
   "id": "dbdcfd30",
   "metadata": {},
   "outputs": [],
   "source": [
    "def powerset(iterable):\n",
    "    \"powerset([1,2,3]) --> () (1,) (2,) (3,) (1,2) (1,3) (2,3) (1,2,3)\"\n",
    "    s = list(iterable)  # allows duplicate elements\n",
    "    return chain.from_iterable(combinations(s, r) for r in range(len(s)+1))\n",
    "\n",
    "def get_all_combos(stuff):\n",
    "    count = 0\n",
    "    for i, combo in enumerate(powerset(stuff), 1):\n",
    "        size = len(combo)\n",
    "        if size<2 or size>7: continue\n",
    "        if size>=2 and (combo[0] not in [\"A\",\"X\",\"J\"] or combo[1] not in [\"B\",\"X\",\"J\"]): continue\n",
    "        if size>=3 and combo[2] not in [\"C\",\"X\",\"J\"]: continue\n",
    "        if size>=4 and combo[3] not in [\"D\",\"X\",\"J\"]: continue\n",
    "        if size>=5 and combo[4] not in [\"X\",\"J\"]: continue\n",
    "        if size>=6 and combo[5] not in [\"J\"]: continue\n",
    "        print('combo #{}: {} -- {}%'.format(count, combo, first_draw(combo)))\n",
    "        count+=1"
   ]
  },
  {
   "cell_type": "code",
   "execution_count": 40,
   "id": "8f5357dc",
   "metadata": {},
   "outputs": [
    {
     "name": "stdout",
     "output_type": "stream",
     "text": [
      "combo #0: ('A', 'B') -- 50.4%\n",
      "combo #1: ('A', 'X') -- 31.7%\n",
      "combo #2: ('A', 'J') -- 17.2%\n",
      "combo #3: ('X', 'J') -- 12.4%\n",
      "combo #4: ('A', 'B', 'C') -- 36.0%\n",
      "combo #5: ('A', 'B', 'X') -- 23.2%\n",
      "combo #6: ('A', 'B', 'J') -- 12.6%\n",
      "combo #7: ('A', 'X', 'J') -- 6.4%\n",
      "combo #8: ('A', 'B', 'C', 'D') -- 21.7%\n",
      "combo #9: ('A', 'B', 'C', 'X') -- 11.9%\n",
      "combo #10: ('A', 'B', 'C', 'J') -- 5.5%\n",
      "combo #11: ('A', 'B', 'X', 'J') -- 4.4%\n",
      "combo #12: ('A', 'B', 'C', 'D', 'X') -- 7.5%\n",
      "combo #13: ('A', 'B', 'C', 'D', 'J') -- 3.7%\n",
      "combo #14: ('A', 'B', 'C', 'X', 'J') -- 2.3%\n",
      "combo #15: ('A', 'B', 'C', 'D', 'X', 'J') -- 1.0%\n",
      "combo #16: ('A', 'B', 'C', 'D', 'X', 'J', 'K') -- 0.2%\n"
     ]
    }
   ],
   "source": [
    "get_all_combos(char_set_all)"
   ]
  },
  {
   "cell_type": "code",
   "execution_count": null,
   "id": "ce8438b2",
   "metadata": {},
   "outputs": [],
   "source": []
  }
 ],
 "metadata": {
  "kernelspec": {
   "display_name": "Python 3 (ipykernel)",
   "language": "python",
   "name": "python3"
  },
  "language_info": {
   "codemirror_mode": {
    "name": "ipython",
    "version": 3
   },
   "file_extension": ".py",
   "mimetype": "text/x-python",
   "name": "python",
   "nbconvert_exporter": "python",
   "pygments_lexer": "ipython3",
   "version": "3.10.4"
  }
 },
 "nbformat": 4,
 "nbformat_minor": 5
}
